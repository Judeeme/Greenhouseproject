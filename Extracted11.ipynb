{
  "nbformat": 4,
  "nbformat_minor": 0,
  "metadata": {
    "colab": {
      "provenance": [],
      "authorship_tag": "ABX9TyNPFc8IfptPred+zhABm4W2",
      "include_colab_link": true
    },
    "kernelspec": {
      "name": "python3",
      "display_name": "Python 3"
    },
    "language_info": {
      "name": "python"
    }
  },
  "cells": [
    {
      "cell_type": "markdown",
      "metadata": {
        "id": "view-in-github",
        "colab_type": "text"
      },
      "source": [
        "<a href=\"https://colab.research.google.com/github/Judeeme/Greenhouseproject/blob/main/Extracted11.ipynb\" target=\"_parent\"><img src=\"https://colab.research.google.com/assets/colab-badge.svg\" alt=\"Open In Colab\"/></a>"
      ]
    },
    {
      "cell_type": "code",
      "source": [
        "pip install mne"
      ],
      "metadata": {
        "colab": {
          "base_uri": "https://localhost:8080/"
        },
        "id": "Np3Cotia4-q4",
        "outputId": "b85d3e3c-8eb5-479d-dcef-38da48310694"
      },
      "execution_count": 2,
      "outputs": [
        {
          "output_type": "stream",
          "name": "stdout",
          "text": [
            "Collecting mne\n",
            "  Downloading mne-1.10.0-py3-none-any.whl.metadata (20 kB)\n",
            "Requirement already satisfied: decorator in /usr/local/lib/python3.11/dist-packages (from mne) (4.4.2)\n",
            "Requirement already satisfied: jinja2 in /usr/local/lib/python3.11/dist-packages (from mne) (3.1.6)\n",
            "Requirement already satisfied: lazy-loader>=0.3 in /usr/local/lib/python3.11/dist-packages (from mne) (0.4)\n",
            "Requirement already satisfied: matplotlib>=3.7 in /usr/local/lib/python3.11/dist-packages (from mne) (3.10.0)\n",
            "Requirement already satisfied: numpy<3,>=1.25 in /usr/local/lib/python3.11/dist-packages (from mne) (2.0.2)\n",
            "Requirement already satisfied: packaging in /usr/local/lib/python3.11/dist-packages (from mne) (25.0)\n",
            "Requirement already satisfied: pooch>=1.5 in /usr/local/lib/python3.11/dist-packages (from mne) (1.8.2)\n",
            "Requirement already satisfied: scipy>=1.11 in /usr/local/lib/python3.11/dist-packages (from mne) (1.16.1)\n",
            "Requirement already satisfied: tqdm in /usr/local/lib/python3.11/dist-packages (from mne) (4.67.1)\n",
            "Requirement already satisfied: contourpy>=1.0.1 in /usr/local/lib/python3.11/dist-packages (from matplotlib>=3.7->mne) (1.3.3)\n",
            "Requirement already satisfied: cycler>=0.10 in /usr/local/lib/python3.11/dist-packages (from matplotlib>=3.7->mne) (0.12.1)\n",
            "Requirement already satisfied: fonttools>=4.22.0 in /usr/local/lib/python3.11/dist-packages (from matplotlib>=3.7->mne) (4.59.0)\n",
            "Requirement already satisfied: kiwisolver>=1.3.1 in /usr/local/lib/python3.11/dist-packages (from matplotlib>=3.7->mne) (1.4.8)\n",
            "Requirement already satisfied: pillow>=8 in /usr/local/lib/python3.11/dist-packages (from matplotlib>=3.7->mne) (11.3.0)\n",
            "Requirement already satisfied: pyparsing>=2.3.1 in /usr/local/lib/python3.11/dist-packages (from matplotlib>=3.7->mne) (3.2.3)\n",
            "Requirement already satisfied: python-dateutil>=2.7 in /usr/local/lib/python3.11/dist-packages (from matplotlib>=3.7->mne) (2.9.0.post0)\n",
            "Requirement already satisfied: platformdirs>=2.5.0 in /usr/local/lib/python3.11/dist-packages (from pooch>=1.5->mne) (4.3.8)\n",
            "Requirement already satisfied: requests>=2.19.0 in /usr/local/lib/python3.11/dist-packages (from pooch>=1.5->mne) (2.32.3)\n",
            "Requirement already satisfied: MarkupSafe>=2.0 in /usr/local/lib/python3.11/dist-packages (from jinja2->mne) (3.0.2)\n",
            "Requirement already satisfied: six>=1.5 in /usr/local/lib/python3.11/dist-packages (from python-dateutil>=2.7->matplotlib>=3.7->mne) (1.17.0)\n",
            "Requirement already satisfied: charset-normalizer<4,>=2 in /usr/local/lib/python3.11/dist-packages (from requests>=2.19.0->pooch>=1.5->mne) (3.4.2)\n",
            "Requirement already satisfied: idna<4,>=2.5 in /usr/local/lib/python3.11/dist-packages (from requests>=2.19.0->pooch>=1.5->mne) (3.10)\n",
            "Requirement already satisfied: urllib3<3,>=1.21.1 in /usr/local/lib/python3.11/dist-packages (from requests>=2.19.0->pooch>=1.5->mne) (2.5.0)\n",
            "Requirement already satisfied: certifi>=2017.4.17 in /usr/local/lib/python3.11/dist-packages (from requests>=2.19.0->pooch>=1.5->mne) (2025.8.3)\n",
            "Downloading mne-1.10.0-py3-none-any.whl (7.4 MB)\n",
            "\u001b[2K   \u001b[90m━━━━━━━━━━━━━━━━━━━━━━━━━━━━━━━━━━━━━━━━\u001b[0m \u001b[32m7.4/7.4 MB\u001b[0m \u001b[31m95.2 MB/s\u001b[0m eta \u001b[36m0:00:00\u001b[0m\n",
            "\u001b[?25hInstalling collected packages: mne\n",
            "Successfully installed mne-1.10.0\n"
          ]
        }
      ]
    },
    {
      "cell_type": "code",
      "source": [
        "import mne"
      ],
      "metadata": {
        "id": "ogskxEtRgKh4"
      },
      "execution_count": 3,
      "outputs": []
    },
    {
      "cell_type": "code",
      "source": [
        "import matplotlib.pyplot as plt"
      ],
      "metadata": {
        "id": "ZCBdIb5mgO3S"
      },
      "execution_count": 4,
      "outputs": []
    },
    {
      "cell_type": "code",
      "source": [
        "import numpy as np"
      ],
      "metadata": {
        "id": "TD0FX9N2gU7x"
      },
      "execution_count": 5,
      "outputs": []
    },
    {
      "cell_type": "code",
      "source": [
        "\n",
        "edf_path = r\"/content/sample_data/10000_17728.edf\""
      ],
      "metadata": {
        "id": "ivoJBt-5giH7"
      },
      "execution_count": 6,
      "outputs": []
    },
    {
      "cell_type": "code",
      "source": [
        "raw = mne.io.read_raw_edf(edf_path, preload=True)\n",
        "raw.crop(tmin=0, tmax=180)"
      ],
      "metadata": {
        "colab": {
          "base_uri": "https://localhost:8080/",
          "height": 571
        },
        "id": "dk485Jh9g2qG",
        "outputId": "7834d968-d19f-4acc-d903-efec99a86c00"
      },
      "execution_count": 7,
      "outputs": [
        {
          "output_type": "stream",
          "name": "stdout",
          "text": [
            "Extracting EDF parameters from /content/sample_data/10000_17728.edf...\n",
            "EDF file detected\n",
            "Setting channel info structure...\n",
            "Creating raw.info structure...\n"
          ]
        },
        {
          "output_type": "stream",
          "name": "stderr",
          "text": [
            "/tmp/ipython-input-2736860115.py:1: RuntimeWarning: Number of records from the header does not match the file size (perhaps the recording was not stopped before exiting). Inferring from the file size.\n",
            "  raw = mne.io.read_raw_edf(edf_path, preload=True)\n"
          ]
        },
        {
          "output_type": "stream",
          "name": "stdout",
          "text": [
            "Reading 0 ... 733183  =      0.000 ...  2863.996 secs...\n"
          ]
        },
        {
          "output_type": "execute_result",
          "data": {
            "text/plain": [
              "<RawEDF | 10000_17728.edf, 25 x 46081 (180.0 s), ~8.8 MiB, data loaded>"
            ],
            "text/html": [
              "<script type=\"text/javascript\">\n",
              "    // must be `var` (not `const`) because this can get embedded multiple times on a page\n",
              "var toggleVisibility = (className) => {\n",
              "\n",
              "    const elements = document.querySelectorAll(`.${className}`);\n",
              "\n",
              "    elements.forEach(element => {\n",
              "        if (element.classList.contains(\"mne-repr-section-header\")) {\n",
              "            return  // Don't collapse the section header row\n",
              "        }\n",
              "        element.classList.toggle(\"mne-repr-collapsed\");\n",
              "    });\n",
              "\n",
              "    // trigger caret to rotate\n",
              "    var sel = `.mne-repr-section-header.${className} > th.mne-repr-section-toggle > button`;\n",
              "    const button = document.querySelector(sel);\n",
              "    button.classList.toggle(\"collapsed\");\n",
              "\n",
              "    // adjust tooltip\n",
              "    sel = `tr.mne-repr-section-header.${className}`;\n",
              "    const secHeadRow = document.querySelector(sel);\n",
              "    secHeadRow.classList.toggle(\"collapsed\");\n",
              "    secHeadRow.title = secHeadRow.title === \"Hide section\" ? \"Show section\" : \"Hide section\";\n",
              "}\n",
              "</script>\n",
              "\n",
              "<style type=\"text/css\">\n",
              "    /*\n",
              "Styles in this section apply both to the sphinx-built website docs and to notebooks\n",
              "rendered in an IDE or in Jupyter. In our web docs, styles here are complemented by\n",
              "doc/_static/styles.css and other CSS files (e.g. from the sphinx theme, sphinx-gallery,\n",
              "or bootstrap). In IDEs/Jupyter, those style files are unavailable, so only the rules in\n",
              "this file apply (plus whatever default styling the IDE applies).\n",
              "*/\n",
              ".mne-repr-table {\n",
              "    display: inline;  /* prevent using full container width */\n",
              "}\n",
              ".mne-repr-table tr.mne-repr-section-header > th {\n",
              "    padding-top: 1rem;\n",
              "    text-align: left;\n",
              "    vertical-align: middle;\n",
              "}\n",
              ".mne-repr-section-toggle > button {\n",
              "    all: unset;\n",
              "    display: block;\n",
              "    height: 1rem;\n",
              "    width: 1rem;\n",
              "}\n",
              ".mne-repr-section-toggle > button > svg {\n",
              "    height: 60%;\n",
              "}\n",
              "\n",
              "/* transition (rotation) effects on the collapser button */\n",
              ".mne-repr-section-toggle > button.collapsed > svg {\n",
              "    transition: 0.1s ease-out;\n",
              "    transform: rotate(-90deg);\n",
              "}\n",
              ".mne-repr-section-toggle > button:not(.collapsed) > svg {\n",
              "    transition: 0.1s ease-out;\n",
              "    transform: rotate(0deg);\n",
              "}\n",
              "\n",
              "/* hide collapsed table rows */\n",
              ".mne-repr-collapsed {\n",
              "    display: none;\n",
              "}\n",
              "\n",
              "\n",
              "@layer {\n",
              "    /*\n",
              "    Selectors in a `@layer` will always be lower-precedence than selectors outside the\n",
              "    layer. So even though e.g. `div.output_html` is present in the sphinx-rendered\n",
              "    website docs, the styles here won't take effect there as long as some other rule\n",
              "    somewhere in the page's CSS targets the same element.\n",
              "\n",
              "    In IDEs or Jupyter notebooks, though, the CSS files from the sphinx theme,\n",
              "    sphinx-gallery, and bootstrap are unavailable, so these styles will apply.\n",
              "\n",
              "    Notes:\n",
              "\n",
              "    - the selector `.accordion-body` is for MNE Reports\n",
              "    - the selector `.output_html` is for VSCode's notebook interface\n",
              "    - the selector `.jp-RenderedHTML` is for Jupyter notebook\n",
              "    - variables starting with `--theme-` are VSCode-specific.\n",
              "    - variables starting with `--jp-` are Jupyter styles, *some of which* are also\n",
              "      available in VSCode. Here we try the `--theme-` variable first, then fall back to\n",
              "      the `--jp-` ones.\n",
              "    */\n",
              "    .mne-repr-table {\n",
              "        --mne-toggle-color: var(--theme-foreground, var(--jp-ui-font-color1));\n",
              "        --mne-button-bg-color: var(--theme-button-background, var(--jp-info-color0, var(--jp-content-link-color)));\n",
              "        --mne-button-fg-color: var(--theme-button-foreground, var(--jp-ui-inverse-font-color0, var(--jp-editor-background)));\n",
              "        --mne-button-hover-bg-color: var(--theme-button-hover-background, var(--jp-info-color1));\n",
              "        --mne-button-radius: var(--jp-border-radius, 0.25rem);\n",
              "    }\n",
              "    /* chevron position/alignment; in VSCode it looks ok without adjusting */\n",
              "    .accordion-body .mne-repr-section-toggle > button,\n",
              "    .jp-RenderedHTML .mne-repr-section-toggle > button {\n",
              "        padding: 0 0 45% 25% !important;\n",
              "    }\n",
              "    /* chevron color; MNE Report doesn't have light/dark mode */\n",
              "    div.output_html .mne-repr-section-toggle > button > svg > path,\n",
              "    .jp-RenderedHTML .mne-repr-section-toggle > button > svg > path {\n",
              "        fill: var(--mne-toggle-color);\n",
              "    }\n",
              "    .accordion-body .mne-ch-names-btn,\n",
              "    div.output_html .mne-ch-names-btn,\n",
              "    .jp-RenderedHTML .mne-ch-names-btn {\n",
              "        -webkit-border-radius: var(--mne-button-radius);\n",
              "        -moz-border-radius: var(--mne-button-radius);\n",
              "        border-radius: var(--mne-button-radius);\n",
              "        border: none;\n",
              "        background-image: none;\n",
              "        background-color: var(--mne-button-bg-color);\n",
              "        color: var(--mne-button-fg-color);\n",
              "        font-size: inherit;\n",
              "        min-width: 1.5rem;\n",
              "        padding: 0.25rem;\n",
              "        text-align: center;\n",
              "        text-decoration: none;\n",
              "    }\n",
              "    .accordion-body .mne-ch-names-btn:hover,\n",
              "    div.output_html .mne.ch-names-btn:hover,\n",
              "    .jp-RenderedHTML .mne-ch-names-btn:hover {\n",
              "        background-color: var(--mne-button-hover-bg-color);\n",
              "        text-decoration: underline;\n",
              "    }\n",
              "    .accordion-body .mne-ch-names-btn:focus-visible,\n",
              "    div.output_html .mne-ch-names-btn:focus-visible,\n",
              "    .jp-RenderedHTML .mne-ch-names-btn:focus-visible {\n",
              "        outline: 0.1875rem solid var(--mne-button-bg-color) !important;\n",
              "        outline-offset: 0.1875rem !important;\n",
              "    }\n",
              "}\n",
              "</style>\n",
              "\n",
              "\n",
              "\n",
              "<table class=\"table mne-repr-table\">\n",
              "    \n",
              "\n",
              "\n",
              "\n",
              "\n",
              "\n",
              "\n",
              "\n",
              "<tr class=\"mne-repr-section-header general-fe410a8a-cbd3-4802-9547-510eec34556d\"\n",
              "     title=\"Hide section\" \n",
              "    onclick=\"toggleVisibility('general-fe410a8a-cbd3-4802-9547-510eec34556d')\">\n",
              "    <th class=\"mne-repr-section-toggle\">\n",
              "        <button >\n",
              "            <svg xmlns=\"http://www.w3.org/2000/svg\" viewBox=\"0 0 512 512\"><!--!Font Awesome Free 6.6.0 by @fontawesome - https://fontawesome.com License - https://fontawesome.com/license/free Copyright 2024 Fonticons, Inc.--><path d=\"M233.4 406.6c12.5 12.5 32.8 12.5 45.3 0l192-192c12.5-12.5 12.5-32.8 0-45.3s-32.8-12.5-45.3 0L256 338.7 86.6 169.4c-12.5-12.5-32.8-12.5-45.3 0s-12.5 32.8 0 45.3l192 192z\"/></svg>\n",
              "        </button>\n",
              "    </th>\n",
              "    <th colspan=\"2\">\n",
              "        <strong>General</strong>\n",
              "    </th>\n",
              "</tr>\n",
              "\n",
              "\n",
              "<tr class=\"repr-element general-fe410a8a-cbd3-4802-9547-510eec34556d \">\n",
              "    <td class=\"mne-repr-section-toggle\"></td>\n",
              "    <td>Filename(s)</td>\n",
              "    <td>\n",
              "        \n",
              "        10000_17728.edf\n",
              "        \n",
              "        \n",
              "    </td>\n",
              "</tr>\n",
              "\n",
              "<tr class=\"repr-element general-fe410a8a-cbd3-4802-9547-510eec34556d \">\n",
              "    <td class=\"mne-repr-section-toggle\"></td>\n",
              "    <td>MNE object type</td>\n",
              "    <td>RawEDF</td>\n",
              "</tr>\n",
              "<tr class=\"repr-element general-fe410a8a-cbd3-4802-9547-510eec34556d \">\n",
              "    <td class=\"mne-repr-section-toggle\"></td>\n",
              "    <td>Measurement date</td>\n",
              "    \n",
              "    <td>2001-01-01 at 20:03:07 UTC</td>\n",
              "    \n",
              "</tr>\n",
              "<tr class=\"repr-element general-fe410a8a-cbd3-4802-9547-510eec34556d \">\n",
              "    <td class=\"mne-repr-section-toggle\"></td>\n",
              "    <td>Participant</td>\n",
              "    \n",
              "    \n",
              "    <td>0000000</td>\n",
              "    \n",
              "    \n",
              "</tr>\n",
              "<tr class=\"repr-element general-fe410a8a-cbd3-4802-9547-510eec34556d \">\n",
              "    <td class=\"mne-repr-section-toggle\"></td>\n",
              "    <td>Experimenter</td>\n",
              "    \n",
              "    <td>Unknown</td>\n",
              "    \n",
              "</tr>\n",
              "    \n",
              "\n",
              "\n",
              "\n",
              "\n",
              "\n",
              "\n",
              "\n",
              "<tr class=\"mne-repr-section-header acquisition-b289ae96-3a52-4712-9bba-38021f3fced9\"\n",
              "     title=\"Hide section\" \n",
              "    onclick=\"toggleVisibility('acquisition-b289ae96-3a52-4712-9bba-38021f3fced9')\">\n",
              "    <th class=\"mne-repr-section-toggle\">\n",
              "        <button >\n",
              "            <svg xmlns=\"http://www.w3.org/2000/svg\" viewBox=\"0 0 512 512\"><!--!Font Awesome Free 6.6.0 by @fontawesome - https://fontawesome.com License - https://fontawesome.com/license/free Copyright 2024 Fonticons, Inc.--><path d=\"M233.4 406.6c12.5 12.5 32.8 12.5 45.3 0l192-192c12.5-12.5 12.5-32.8 0-45.3s-32.8-12.5-45.3 0L256 338.7 86.6 169.4c-12.5-12.5-32.8-12.5-45.3 0s-12.5 32.8 0 45.3l192 192z\"/></svg>\n",
              "        </button>\n",
              "    </th>\n",
              "    <th colspan=\"2\">\n",
              "        <strong>Acquisition</strong>\n",
              "    </th>\n",
              "</tr>\n",
              "\n",
              "\n",
              "<tr class=\"repr-element acquisition-b289ae96-3a52-4712-9bba-38021f3fced9 \">\n",
              "    <td class=\"mne-repr-section-toggle\"></td>\n",
              "    <td>Duration</td>\n",
              "    <td>00:03:01 (HH:MM:SS)</td>\n",
              "</tr>\n",
              "\n",
              "\n",
              "\n",
              "\n",
              "\n",
              "\n",
              "\n",
              "\n",
              "<tr class=\"repr-element acquisition-b289ae96-3a52-4712-9bba-38021f3fced9 \">\n",
              "    <td class=\"mne-repr-section-toggle\"></td>\n",
              "    <td>Sampling frequency</td>\n",
              "    <td>256.00 Hz</td>\n",
              "</tr>\n",
              "\n",
              "\n",
              "<tr class=\"repr-element acquisition-b289ae96-3a52-4712-9bba-38021f3fced9 \">\n",
              "    <td class=\"mne-repr-section-toggle\"></td>\n",
              "    <td>Time points</td>\n",
              "    <td>46,081</td>\n",
              "</tr>\n",
              "\n",
              "\n",
              "    \n",
              "\n",
              "\n",
              "\n",
              "\n",
              "\n",
              "\n",
              "\n",
              "<tr class=\"mne-repr-section-header channels-a6ac3959-a38f-4e32-8ebc-0e6d82653618\"\n",
              "     title=\"Hide section\" \n",
              "    onclick=\"toggleVisibility('channels-a6ac3959-a38f-4e32-8ebc-0e6d82653618')\">\n",
              "    <th class=\"mne-repr-section-toggle\">\n",
              "        <button >\n",
              "            <svg xmlns=\"http://www.w3.org/2000/svg\" viewBox=\"0 0 512 512\"><!--!Font Awesome Free 6.6.0 by @fontawesome - https://fontawesome.com License - https://fontawesome.com/license/free Copyright 2024 Fonticons, Inc.--><path d=\"M233.4 406.6c12.5 12.5 32.8 12.5 45.3 0l192-192c12.5-12.5 12.5-32.8 0-45.3s-32.8-12.5-45.3 0L256 338.7 86.6 169.4c-12.5-12.5-32.8-12.5-45.3 0s-12.5 32.8 0 45.3l192 192z\"/></svg>\n",
              "        </button>\n",
              "    </th>\n",
              "    <th colspan=\"2\">\n",
              "        <strong>Channels</strong>\n",
              "    </th>\n",
              "</tr>\n",
              "\n",
              "\n",
              "    \n",
              "<tr class=\"repr-element channels-a6ac3959-a38f-4e32-8ebc-0e6d82653618 \">\n",
              "    <td class=\"mne-repr-section-toggle\"></td>\n",
              "    <td>EEG</td>\n",
              "    <td>\n",
              "        <button class=\"mne-ch-names-btn sd-sphinx-override sd-btn sd-btn-info sd-text-wrap sd-shadow-sm\" onclick=\"alert('Good EEG:\\n\\nEOG&nbsp;LOC-M2, EOG&nbsp;ROC-M1, EMG&nbsp;Chin2-Chin1, EEG&nbsp;F3-M2, EEG&nbsp;F4-M1, EEG&nbsp;C3-M2, EEG&nbsp;C4-M1, EEG&nbsp;O1-M2, EEG&nbsp;O2-M1, EEG&nbsp;CZ-O1, EMG&nbsp;LLeg-RLeg, ECG&nbsp;EKG2-EKG, Snore, Resp&nbsp;PTAF, Resp&nbsp;Airflow, Resp&nbsp;Thoracic, Resp&nbsp;Abdominal, SpO2, Rate, EtCO2, Capno, Resp&nbsp;Rate, C-flow, Tidal&nbsp;Vol, Pressure')\" title=\"(Click to open in popup)&#13;&#13;EOG&nbsp;LOC-M2, EOG&nbsp;ROC-M1, EMG&nbsp;Chin2-Chin1, EEG&nbsp;F3-M2, EEG&nbsp;F4-M1, EEG&nbsp;C3-M2, EEG&nbsp;C4-M1, EEG&nbsp;O1-M2, EEG&nbsp;O2-M1, EEG&nbsp;CZ-O1, EMG&nbsp;LLeg-RLeg, ECG&nbsp;EKG2-EKG, Snore, Resp&nbsp;PTAF, Resp&nbsp;Airflow, Resp&nbsp;Thoracic, Resp&nbsp;Abdominal, SpO2, Rate, EtCO2, Capno, Resp&nbsp;Rate, C-flow, Tidal&nbsp;Vol, Pressure\">\n",
              "            25\n",
              "        </button>\n",
              "\n",
              "        \n",
              "    </td>\n",
              "</tr>\n",
              "\n",
              "\n",
              "<tr class=\"repr-element channels-a6ac3959-a38f-4e32-8ebc-0e6d82653618 \">\n",
              "    <td class=\"mne-repr-section-toggle\"></td>\n",
              "    <td>Head & sensor digitization</td>\n",
              "    \n",
              "    <td>Not available</td>\n",
              "    \n",
              "</tr>\n",
              "    \n",
              "\n",
              "\n",
              "\n",
              "\n",
              "\n",
              "\n",
              "\n",
              "<tr class=\"mne-repr-section-header filters-68bbb5a5-29fd-4f6d-9152-2d34ba770db2\"\n",
              "     title=\"Hide section\" \n",
              "    onclick=\"toggleVisibility('filters-68bbb5a5-29fd-4f6d-9152-2d34ba770db2')\">\n",
              "    <th class=\"mne-repr-section-toggle\">\n",
              "        <button >\n",
              "            <svg xmlns=\"http://www.w3.org/2000/svg\" viewBox=\"0 0 512 512\"><!--!Font Awesome Free 6.6.0 by @fontawesome - https://fontawesome.com License - https://fontawesome.com/license/free Copyright 2024 Fonticons, Inc.--><path d=\"M233.4 406.6c12.5 12.5 32.8 12.5 45.3 0l192-192c12.5-12.5 12.5-32.8 0-45.3s-32.8-12.5-45.3 0L256 338.7 86.6 169.4c-12.5-12.5-32.8-12.5-45.3 0s-12.5 32.8 0 45.3l192 192z\"/></svg>\n",
              "        </button>\n",
              "    </th>\n",
              "    <th colspan=\"2\">\n",
              "        <strong>Filters</strong>\n",
              "    </th>\n",
              "</tr>\n",
              "\n",
              "\n",
              "<tr class=\"repr-element filters-68bbb5a5-29fd-4f6d-9152-2d34ba770db2 \">\n",
              "    <td class=\"mne-repr-section-toggle\"></td>\n",
              "    <td>Highpass</td>\n",
              "    <td>0.00 Hz</td>\n",
              "</tr>\n",
              "\n",
              "\n",
              "<tr class=\"repr-element filters-68bbb5a5-29fd-4f6d-9152-2d34ba770db2 \">\n",
              "    <td class=\"mne-repr-section-toggle\"></td>\n",
              "    <td>Lowpass</td>\n",
              "    <td>128.00 Hz</td>\n",
              "</tr>\n",
              "\n",
              "\n",
              "</table>"
            ]
          },
          "metadata": {},
          "execution_count": 7
        }
      ]
    },
    {
      "cell_type": "code",
      "source": [
        "data, times = raw[:5, :]"
      ],
      "metadata": {
        "id": "sfeTkytphGMF"
      },
      "execution_count": 15,
      "outputs": []
    },
    {
      "cell_type": "code",
      "source": [
        "plt.figure(figsize=(12, 6))\n",
        "offset = 0\n",
        "for i in range(data.shape[0]):\n",
        "    plt.plot(times, data[i] + offset, label=raw.ch_names[i])\n",
        "    offset += np.max(data[i])"
      ],
      "metadata": {
        "colab": {
          "base_uri": "https://localhost:8080/",
          "height": 445
        },
        "id": "AxtwK0NohUFN",
        "outputId": "48ce1502-c21f-4202-82ef-9a467a785218"
      },
      "execution_count": 16,
      "outputs": [
        {
          "output_type": "display_data",
          "data": {
            "text/plain": [
              "<Figure size 1200x600 with 1 Axes>"
            ],
            "image/png": "[encoded data removed]"
          },
          "metadata": {}
        }
      ]
    },
    {
      "cell_type": "code",
      "source": [
        "plt.xlabel(\"Time (s)\")\n",
        "plt.ylabel(\"Amplitude + offset\")\n",
        "plt.title(\"First 60 Minutes of EEG\")\n",
        "plt.legend()\n",
        "plt.show()"
      ],
      "metadata": {
        "colab": {
          "base_uri": "https://localhost:8080/",
          "height": 527
        },
        "id": "FtqTdzRShnKO",
        "outputId": "91ed974e-dc22-4db1-b45b-d13e25020e81"
      },
      "execution_count": 12,
      "outputs": [
        {
          "output_type": "stream",
          "name": "stderr",
          "text": [
            "/tmp/ipython-input-1745881222.py:4: UserWarning: No artists with labels found to put in legend.  Note that artists whose label start with an underscore are ignored when legend() is called with no argument.\n",
            "  plt.legend()\n"
          ]
        },
        {
          "output_type": "display_data",
          "data": {
            "text/plain": [
              "<Figure size 640x480 with 1 Axes>"
            ],
            "image/png": "[encoded data removed]"
          },
          "metadata": {}
        }
      ]
    },
    {
      "cell_type": "code",
      "source": [
        "import pandas as pd\n"
      ],
      "metadata": {
        "id": "Fmt0qjNdjXQV"
      },
      "execution_count": 17,
      "outputs": []
    },
    {
      "cell_type": "code",
      "source": [
        "raw = mne.io.read_raw_edf(edf_path, preload=True)"
      ],
      "metadata": {
        "colab": {
          "base_uri": "https://localhost:8080/"
        },
        "id": "Qf0nSqB5jiN3",
        "outputId": "5b50af23-523a-46a9-9a9a-adcf72795885"
      },
      "execution_count": 18,
      "outputs": [
        {
          "output_type": "stream",
          "name": "stdout",
          "text": [
            "Extracting EDF parameters from /content/sample_data/10000_17728.edf...\n",
            "EDF file detected\n",
            "Setting channel info structure...\n",
            "Creating raw.info structure...\n",
            "Reading 0 ... 9109503  =      0.000 ... 35583.996 secs...\n"
          ]
        }
      ]
    },
    {
      "cell_type": "code",
      "source": [
        "raw.crop(tmin=0, tmax=180)"
      ],
      "metadata": {
        "colab": {
          "base_uri": "https://localhost:8080/",
          "height": 430
        },
        "id": "aGO4cqxsjp1V",
        "outputId": "049214da-13c0-4c7e-c534-f5d572af408e"
      },
      "execution_count": 19,
      "outputs": [
        {
          "output_type": "execute_result",
          "data": {
            "text/plain": [
              "<RawEDF | 10000_17728.edf, 25 x 46081 (180.0 s), ~8.8 MiB, data loaded>"
            ],
            "text/html": [
              "<script type=\"text/javascript\">\n",
              "    // must be `var` (not `const`) because this can get embedded multiple times on a page\n",
              "var toggleVisibility = (className) => {\n",
              "\n",
              "    const elements = document.querySelectorAll(`.${className}`);\n",
              "\n",
              "    elements.forEach(element => {\n",
              "        if (element.classList.contains(\"mne-repr-section-header\")) {\n",
              "            return  // Don't collapse the section header row\n",
              "        }\n",
              "        element.classList.toggle(\"mne-repr-collapsed\");\n",
              "    });\n",
              "\n",
              "    // trigger caret to rotate\n",
              "    var sel = `.mne-repr-section-header.${className} > th.mne-repr-section-toggle > button`;\n",
              "    const button = document.querySelector(sel);\n",
              "    button.classList.toggle(\"collapsed\");\n",
              "\n",
              "    // adjust tooltip\n",
              "    sel = `tr.mne-repr-section-header.${className}`;\n",
              "    const secHeadRow = document.querySelector(sel);\n",
              "    secHeadRow.classList.toggle(\"collapsed\");\n",
              "    secHeadRow.title = secHeadRow.title === \"Hide section\" ? \"Show section\" : \"Hide section\";\n",
              "}\n",
              "</script>\n",
              "\n",
              "<style type=\"text/css\">\n",
              "    /*\n",
              "Styles in this section apply both to the sphinx-built website docs and to notebooks\n",
              "rendered in an IDE or in Jupyter. In our web docs, styles here are complemented by\n",
              "doc/_static/styles.css and other CSS files (e.g. from the sphinx theme, sphinx-gallery,\n",
              "or bootstrap). In IDEs/Jupyter, those style files are unavailable, so only the rules in\n",
              "this file apply (plus whatever default styling the IDE applies).\n",
              "*/\n",
              ".mne-repr-table {\n",
              "    display: inline;  /* prevent using full container width */\n",
              "}\n",
              ".mne-repr-table tr.mne-repr-section-header > th {\n",
              "    padding-top: 1rem;\n",
              "    text-align: left;\n",
              "    vertical-align: middle;\n",
              "}\n",
              ".mne-repr-section-toggle > button {\n",
              "    all: unset;\n",
              "    display: block;\n",
              "    height: 1rem;\n",
              "    width: 1rem;\n",
              "}\n",
              ".mne-repr-section-toggle > button > svg {\n",
              "    height: 60%;\n",
              "}\n",
              "\n",
              "/* transition (rotation) effects on the collapser button */\n",
              ".mne-repr-section-toggle > button.collapsed > svg {\n",
              "    transition: 0.1s ease-out;\n",
              "    transform: rotate(-90deg);\n",
              "}\n",
              ".mne-repr-section-toggle > button:not(.collapsed) > svg {\n",
              "    transition: 0.1s ease-out;\n",
              "    transform: rotate(0deg);\n",
              "}\n",
              "\n",
              "/* hide collapsed table rows */\n",
              ".mne-repr-collapsed {\n",
              "    display: none;\n",
              "}\n",
              "\n",
              "\n",
              "@layer {\n",
              "    /*\n",
              "    Selectors in a `@layer` will always be lower-precedence than selectors outside the\n",
              "    layer. So even though e.g. `div.output_html` is present in the sphinx-rendered\n",
              "    website docs, the styles here won't take effect there as long as some other rule\n",
              "    somewhere in the page's CSS targets the same element.\n",
              "\n",
              "    In IDEs or Jupyter notebooks, though, the CSS files from the sphinx theme,\n",
              "    sphinx-gallery, and bootstrap are unavailable, so these styles will apply.\n",
              "\n",
              "    Notes:\n",
              "\n",
              "    - the selector `.accordion-body` is for MNE Reports\n",
              "    - the selector `.output_html` is for VSCode's notebook interface\n",
              "    - the selector `.jp-RenderedHTML` is for Jupyter notebook\n",
              "    - variables starting with `--theme-` are VSCode-specific.\n",
              "    - variables starting with `--jp-` are Jupyter styles, *some of which* are also\n",
              "      available in VSCode. Here we try the `--theme-` variable first, then fall back to\n",
              "      the `--jp-` ones.\n",
              "    */\n",
              "    .mne-repr-table {\n",
              "        --mne-toggle-color: var(--theme-foreground, var(--jp-ui-font-color1));\n",
              "        --mne-button-bg-color: var(--theme-button-background, var(--jp-info-color0, var(--jp-content-link-color)));\n",
              "        --mne-button-fg-color: var(--theme-button-foreground, var(--jp-ui-inverse-font-color0, var(--jp-editor-background)));\n",
              "        --mne-button-hover-bg-color: var(--theme-button-hover-background, var(--jp-info-color1));\n",
              "        --mne-button-radius: var(--jp-border-radius, 0.25rem);\n",
              "    }\n",
              "    /* chevron position/alignment; in VSCode it looks ok without adjusting */\n",
              "    .accordion-body .mne-repr-section-toggle > button,\n",
              "    .jp-RenderedHTML .mne-repr-section-toggle > button {\n",
              "        padding: 0 0 45% 25% !important;\n",
              "    }\n",
              "    /* chevron color; MNE Report doesn't have light/dark mode */\n",
              "    div.output_html .mne-repr-section-toggle > button > svg > path,\n",
              "    .jp-RenderedHTML .mne-repr-section-toggle > button > svg > path {\n",
              "        fill: var(--mne-toggle-color);\n",
              "    }\n",
              "    .accordion-body .mne-ch-names-btn,\n",
              "    div.output_html .mne-ch-names-btn,\n",
              "    .jp-RenderedHTML .mne-ch-names-btn {\n",
              "        -webkit-border-radius: var(--mne-button-radius);\n",
              "        -moz-border-radius: var(--mne-button-radius);\n",
              "        border-radius: var(--mne-button-radius);\n",
              "        border: none;\n",
              "        background-image: none;\n",
              "        background-color: var(--mne-button-bg-color);\n",
              "        color: var(--mne-button-fg-color);\n",
              "        font-size: inherit;\n",
              "        min-width: 1.5rem;\n",
              "        padding: 0.25rem;\n",
              "        text-align: center;\n",
              "        text-decoration: none;\n",
              "    }\n",
              "    .accordion-body .mne-ch-names-btn:hover,\n",
              "    div.output_html .mne.ch-names-btn:hover,\n",
              "    .jp-RenderedHTML .mne-ch-names-btn:hover {\n",
              "        background-color: var(--mne-button-hover-bg-color);\n",
              "        text-decoration: underline;\n",
              "    }\n",
              "    .accordion-body .mne-ch-names-btn:focus-visible,\n",
              "    div.output_html .mne-ch-names-btn:focus-visible,\n",
              "    .jp-RenderedHTML .mne-ch-names-btn:focus-visible {\n",
              "        outline: 0.1875rem solid var(--mne-button-bg-color) !important;\n",
              "        outline-offset: 0.1875rem !important;\n",
              "    }\n",
              "}\n",
              "</style>\n",
              "\n",
              "\n",
              "\n",
              "<table class=\"table mne-repr-table\">\n",
              "    \n",
              "\n",
              "\n",
              "\n",
              "\n",
              "\n",
              "\n",
              "\n",
              "<tr class=\"mne-repr-section-header general-817ae968-2275-4e14-98a7-443646a2409d\"\n",
              "     title=\"Hide section\" \n",
              "    onclick=\"toggleVisibility('general-817ae968-2275-4e14-98a7-443646a2409d')\">\n",
              "    <th class=\"mne-repr-section-toggle\">\n",
              "        <button >\n",
              "            <svg xmlns=\"http://www.w3.org/2000/svg\" viewBox=\"0 0 512 512\"><!--!Font Awesome Free 6.6.0 by @fontawesome - https://fontawesome.com License - https://fontawesome.com/license/free Copyright 2024 Fonticons, Inc.--><path d=\"M233.4 406.6c12.5 12.5 32.8 12.5 45.3 0l192-192c12.5-12.5 12.5-32.8 0-45.3s-32.8-12.5-45.3 0L256 338.7 86.6 169.4c-12.5-12.5-32.8-12.5-45.3 0s-12.5 32.8 0 45.3l192 192z\"/></svg>\n",
              "        </button>\n",
              "    </th>\n",
              "    <th colspan=\"2\">\n",
              "        <strong>General</strong>\n",
              "    </th>\n",
              "</tr>\n",
              "\n",
              "\n",
              "<tr class=\"repr-element general-817ae968-2275-4e14-98a7-443646a2409d \">\n",
              "    <td class=\"mne-repr-section-toggle\"></td>\n",
              "    <td>Filename(s)</td>\n",
              "    <td>\n",
              "        \n",
              "        10000_17728.edf\n",
              "        \n",
              "        \n",
              "    </td>\n",
              "</tr>\n",
              "\n",
              "<tr class=\"repr-element general-817ae968-2275-4e14-98a7-443646a2409d \">\n",
              "    <td class=\"mne-repr-section-toggle\"></td>\n",
              "    <td>MNE object type</td>\n",
              "    <td>RawEDF</td>\n",
              "</tr>\n",
              "<tr class=\"repr-element general-817ae968-2275-4e14-98a7-443646a2409d \">\n",
              "    <td class=\"mne-repr-section-toggle\"></td>\n",
              "    <td>Measurement date</td>\n",
              "    \n",
              "    <td>2001-01-01 at 20:03:07 UTC</td>\n",
              "    \n",
              "</tr>\n",
              "<tr class=\"repr-element general-817ae968-2275-4e14-98a7-443646a2409d \">\n",
              "    <td class=\"mne-repr-section-toggle\"></td>\n",
              "    <td>Participant</td>\n",
              "    \n",
              "    \n",
              "    <td>0000000</td>\n",
              "    \n",
              "    \n",
              "</tr>\n",
              "<tr class=\"repr-element general-817ae968-2275-4e14-98a7-443646a2409d \">\n",
              "    <td class=\"mne-repr-section-toggle\"></td>\n",
              "    <td>Experimenter</td>\n",
              "    \n",
              "    <td>Unknown</td>\n",
              "    \n",
              "</tr>\n",
              "    \n",
              "\n",
              "\n",
              "\n",
              "\n",
              "\n",
              "\n",
              "\n",
              "<tr class=\"mne-repr-section-header acquisition-36e53786-7f08-4025-91d0-6620437e7188\"\n",
              "     title=\"Hide section\" \n",
              "    onclick=\"toggleVisibility('acquisition-36e53786-7f08-4025-91d0-6620437e7188')\">\n",
              "    <th class=\"mne-repr-section-toggle\">\n",
              "        <button >\n",
              "            <svg xmlns=\"http://www.w3.org/2000/svg\" viewBox=\"0 0 512 512\"><!--!Font Awesome Free 6.6.0 by @fontawesome - https://fontawesome.com License - https://fontawesome.com/license/free Copyright 2024 Fonticons, Inc.--><path d=\"M233.4 406.6c12.5 12.5 32.8 12.5 45.3 0l192-192c12.5-12.5 12.5-32.8 0-45.3s-32.8-12.5-45.3 0L256 338.7 86.6 169.4c-12.5-12.5-32.8-12.5-45.3 0s-12.5 32.8 0 45.3l192 192z\"/></svg>\n",
              "        </button>\n",
              "    </th>\n",
              "    <th colspan=\"2\">\n",
              "        <strong>Acquisition</strong>\n",
              "    </th>\n",
              "</tr>\n",
              "\n",
              "\n",
              "<tr class=\"repr-element acquisition-36e53786-7f08-4025-91d0-6620437e7188 \">\n",
              "    <td class=\"mne-repr-section-toggle\"></td>\n",
              "    <td>Duration</td>\n",
              "    <td>00:03:01 (HH:MM:SS)</td>\n",
              "</tr>\n",
              "\n",
              "\n",
              "\n",
              "\n",
              "\n",
              "\n",
              "\n",
              "\n",
              "<tr class=\"repr-element acquisition-36e53786-7f08-4025-91d0-6620437e7188 \">\n",
              "    <td class=\"mne-repr-section-toggle\"></td>\n",
              "    <td>Sampling frequency</td>\n",
              "    <td>256.00 Hz</td>\n",
              "</tr>\n",
              "\n",
              "\n",
              "<tr class=\"repr-element acquisition-36e53786-7f08-4025-91d0-6620437e7188 \">\n",
              "    <td class=\"mne-repr-section-toggle\"></td>\n",
              "    <td>Time points</td>\n",
              "    <td>46,081</td>\n",
              "</tr>\n",
              "\n",
              "\n",
              "    \n",
              "\n",
              "\n",
              "\n",
              "\n",
              "\n",
              "\n",
              "\n",
              "<tr class=\"mne-repr-section-header channels-97464a97-90c4-4080-ac41-167f918c1b18\"\n",
              "     title=\"Hide section\" \n",
              "    onclick=\"toggleVisibility('channels-97464a97-90c4-4080-ac41-167f918c1b18')\">\n",
              "    <th class=\"mne-repr-section-toggle\">\n",
              "        <button >\n",
              "            <svg xmlns=\"http://www.w3.org/2000/svg\" viewBox=\"0 0 512 512\"><!--!Font Awesome Free 6.6.0 by @fontawesome - https://fontawesome.com License - https://fontawesome.com/license/free Copyright 2024 Fonticons, Inc.--><path d=\"M233.4 406.6c12.5 12.5 32.8 12.5 45.3 0l192-192c12.5-12.5 12.5-32.8 0-45.3s-32.8-12.5-45.3 0L256 338.7 86.6 169.4c-12.5-12.5-32.8-12.5-45.3 0s-12.5 32.8 0 45.3l192 192z\"/></svg>\n",
              "        </button>\n",
              "    </th>\n",
              "    <th colspan=\"2\">\n",
              "        <strong>Channels</strong>\n",
              "    </th>\n",
              "</tr>\n",
              "\n",
              "\n",
              "    \n",
              "<tr class=\"repr-element channels-97464a97-90c4-4080-ac41-167f918c1b18 \">\n",
              "    <td class=\"mne-repr-section-toggle\"></td>\n",
              "    <td>EEG</td>\n",
              "    <td>\n",
              "        <button class=\"mne-ch-names-btn sd-sphinx-override sd-btn sd-btn-info sd-text-wrap sd-shadow-sm\" onclick=\"alert('Good EEG:\\n\\nEOG&nbsp;LOC-M2, EOG&nbsp;ROC-M1, EMG&nbsp;Chin2-Chin1, EEG&nbsp;F3-M2, EEG&nbsp;F4-M1, EEG&nbsp;C3-M2, EEG&nbsp;C4-M1, EEG&nbsp;O1-M2, EEG&nbsp;O2-M1, EEG&nbsp;CZ-O1, EMG&nbsp;LLeg-RLeg, ECG&nbsp;EKG2-EKG, Snore, Resp&nbsp;PTAF, Resp&nbsp;Airflow, Resp&nbsp;Thoracic, Resp&nbsp;Abdominal, SpO2, Rate, EtCO2, Capno, Resp&nbsp;Rate, C-flow, Tidal&nbsp;Vol, Pressure')\" title=\"(Click to open in popup)&#13;&#13;EOG&nbsp;LOC-M2, EOG&nbsp;ROC-M1, EMG&nbsp;Chin2-Chin1, EEG&nbsp;F3-M2, EEG&nbsp;F4-M1, EEG&nbsp;C3-M2, EEG&nbsp;C4-M1, EEG&nbsp;O1-M2, EEG&nbsp;O2-M1, EEG&nbsp;CZ-O1, EMG&nbsp;LLeg-RLeg, ECG&nbsp;EKG2-EKG, Snore, Resp&nbsp;PTAF, Resp&nbsp;Airflow, Resp&nbsp;Thoracic, Resp&nbsp;Abdominal, SpO2, Rate, EtCO2, Capno, Resp&nbsp;Rate, C-flow, Tidal&nbsp;Vol, Pressure\">\n",
              "            25\n",
              "        </button>\n",
              "\n",
              "        \n",
              "    </td>\n",
              "</tr>\n",
              "\n",
              "\n",
              "<tr class=\"repr-element channels-97464a97-90c4-4080-ac41-167f918c1b18 \">\n",
              "    <td class=\"mne-repr-section-toggle\"></td>\n",
              "    <td>Head & sensor digitization</td>\n",
              "    \n",
              "    <td>Not available</td>\n",
              "    \n",
              "</tr>\n",
              "    \n",
              "\n",
              "\n",
              "\n",
              "\n",
              "\n",
              "\n",
              "\n",
              "<tr class=\"mne-repr-section-header filters-85de92c9-98b9-456e-b507-f6ecb871d36e\"\n",
              "     title=\"Hide section\" \n",
              "    onclick=\"toggleVisibility('filters-85de92c9-98b9-456e-b507-f6ecb871d36e')\">\n",
              "    <th class=\"mne-repr-section-toggle\">\n",
              "        <button >\n",
              "            <svg xmlns=\"http://www.w3.org/2000/svg\" viewBox=\"0 0 512 512\"><!--!Font Awesome Free 6.6.0 by @fontawesome - https://fontawesome.com License - https://fontawesome.com/license/free Copyright 2024 Fonticons, Inc.--><path d=\"M233.4 406.6c12.5 12.5 32.8 12.5 45.3 0l192-192c12.5-12.5 12.5-32.8 0-45.3s-32.8-12.5-45.3 0L256 338.7 86.6 169.4c-12.5-12.5-32.8-12.5-45.3 0s-12.5 32.8 0 45.3l192 192z\"/></svg>\n",
              "        </button>\n",
              "    </th>\n",
              "    <th colspan=\"2\">\n",
              "        <strong>Filters</strong>\n",
              "    </th>\n",
              "</tr>\n",
              "\n",
              "\n",
              "<tr class=\"repr-element filters-85de92c9-98b9-456e-b507-f6ecb871d36e \">\n",
              "    <td class=\"mne-repr-section-toggle\"></td>\n",
              "    <td>Highpass</td>\n",
              "    <td>0.00 Hz</td>\n",
              "</tr>\n",
              "\n",
              "\n",
              "<tr class=\"repr-element filters-85de92c9-98b9-456e-b507-f6ecb871d36e \">\n",
              "    <td class=\"mne-repr-section-toggle\"></td>\n",
              "    <td>Lowpass</td>\n",
              "    <td>128.00 Hz</td>\n",
              "</tr>\n",
              "\n",
              "\n",
              "</table>"
            ]
          },
          "metadata": {},
          "execution_count": 19
        }
      ]
    },
    {
      "cell_type": "code",
      "source": [
        "data, times = raw.get_data(return_times=True)"
      ],
      "metadata": {
        "id": "6GGiy0NGjxBS"
      },
      "execution_count": 20,
      "outputs": []
    },
    {
      "cell_type": "code",
      "source": [
        "df = pd.DataFrame(data.T, columns=raw.ch_names)  # transpose so rows = time points\n",
        "df['Time (s)'] = times"
      ],
      "metadata": {
        "id": "P8sXaVECj2f9"
      },
      "execution_count": 21,
      "outputs": []
    },
    {
      "cell_type": "code",
      "source": [
        "print(df.head(10))"
      ],
      "metadata": {
        "colab": {
          "base_uri": "https://localhost:8080/"
        },
        "id": "pi_ZnUlZj7AS",
        "outputId": "19ea814c-2ef4-4859-c2c2-2db89f6246f8"
      },
      "execution_count": 24,
      "outputs": [
        {
          "output_type": "stream",
          "name": "stdout",
          "text": [
            "   EOG LOC-M2  EOG ROC-M1  EMG Chin2-Chin1  EEG F3-M2  EEG F4-M1  EEG C3-M2  \\\n",
            "0   -0.000120   -0.001364        -0.001446   0.000410   0.000682   0.000894   \n",
            "1    0.000682    0.000339        -0.000097   0.000610  -0.001239   0.000595   \n",
            "2    0.000429    0.001837         0.001631   0.000093  -0.000696  -0.000637   \n",
            "3   -0.000171   -0.000075         0.000403  -0.000008   0.000725  -0.000228   \n",
            "4   -0.000230   -0.001785        -0.001557   0.000112   0.001068   0.000736   \n",
            "5    0.000628   -0.000271        -0.000672   0.000463  -0.000728   0.000768   \n",
            "6    0.000957    0.001509         0.000976   0.000208  -0.001474  -0.000167   \n",
            "7    0.000462    0.001774         0.001655  -0.000130  -0.000198  -0.000805   \n",
            "8   -0.000189   -0.001546        -0.001408  -0.000187   0.001239   0.000506   \n",
            "9    0.000359   -0.000362        -0.000853   0.000132  -0.000264   0.000643   \n",
            "\n",
            "   EEG C4-M1  EEG O1-M2  EEG O2-M1  EEG CZ-O1  ...  Resp Abdominal      SpO2  \\\n",
            "0  -0.000704   0.000717   0.000509  -0.001358  ...    3.967346e-07  0.002438   \n",
            "1  -0.000368   0.000131  -0.001697   0.001344  ...   -4.577707e-07  0.002438   \n",
            "2   0.000894  -0.000532  -0.000329   0.001881  ...    8.850233e-07  0.002438   \n",
            "3   0.000341   0.000188   0.001445  -0.000691  ...   -3.051804e-08  0.002438   \n",
            "4  -0.000763   0.000927   0.001524  -0.002000  ...    3.356985e-07  0.002438   \n",
            "5  -0.000556   0.000458  -0.000898   0.000170  ...   -3.356985e-07  0.002438   \n",
            "6   0.000262  -0.000296  -0.001434   0.001967  ...    1.525902e-07  0.002438   \n",
            "7   0.001011  -0.000465   0.000402   0.001144  ...    2.044709e-06  0.002438   \n",
            "8  -0.000650  -0.002000   0.001603   0.001505  ...    1.525902e-07  0.002438   \n",
            "9  -0.000511   0.000397  -0.000591  -0.000419  ...    1.525902e-07  0.002438   \n",
            "\n",
            "      Rate  EtCO2         Capno  Resp Rate    C-flow  Tidal Vol  Pressure  \\\n",
            "0  0.15259    0.0 -25673.304341   2.594034 -0.717174  16.937514  0.052644   \n",
            "1  0.15259    0.0 -25749.599451   2.594034 -0.686656  15.411612  0.045014   \n",
            "2  0.15259    0.0 -25597.009232   2.594034 -0.686656  12.664988  0.043488   \n",
            "3 -0.15259    0.0 -23231.860838   2.288853 -1.132219  11.444266  0.025177   \n",
            "4  0.15259    0.0 -26817.730983   2.899214 -0.411994  18.158236  0.060273   \n",
            "5  0.15259    0.0 -25749.599451   2.594034 -0.656138  16.937514  0.051118   \n",
            "6  0.15259    0.0 -25902.189670   2.594034 -0.686656  13.885710  0.048066   \n",
            "7  0.15259    0.0 -25749.599451   2.594034 -0.747692  12.359808  0.046540   \n",
            "8  0.15259    0.0 -26131.074998   2.594034 -0.643931  16.632334  0.043488   \n",
            "9  0.15259    0.0 -25215.533684   2.594034 -0.839246  16.021973  0.041962   \n",
            "\n",
            "   Time (s)  \n",
            "0  0.000000  \n",
            "1  0.003906  \n",
            "2  0.007812  \n",
            "3  0.011719  \n",
            "4  0.015625  \n",
            "5  0.019531  \n",
            "6  0.023438  \n",
            "7  0.027344  \n",
            "8  0.031250  \n",
            "9  0.035156  \n",
            "\n",
            "[10 rows x 26 columns]\n"
          ]
        }
      ]
    },
    {
      "cell_type": "code",
      "source": [
        "df.to_csv(r\"D:\\SleepData\\EEG_first_3min.csv\", index=False)\n",
        "print(\"✅ Data saved to EEG_first_3min.csv\")"
      ],
      "metadata": {
        "colab": {
          "base_uri": "https://localhost:8080/"
        },
        "id": "W-YQeXqykyGh",
        "outputId": "1d8a8cc1-fb2c-4ec6-9181-f6a19a69267c"
      },
      "execution_count": 25,
      "outputs": [
        {
          "output_type": "stream",
          "name": "stdout",
          "text": [
            "✅ Data saved to EEG_first_3min.csv\n"
          ]
        }
      ]
    },
    {
      "cell_type": "code",
      "source": [
        "print(\"Channels in file:\", raw.ch_names)"
      ],
      "metadata": {
        "colab": {
          "base_uri": "https://localhost:8080/"
        },
        "id": "_0a4oXPDoDYR",
        "outputId": "ff0e6109-ae1e-4cb0-9fc2-b7c67ba3f4a3"
      },
      "execution_count": 26,
      "outputs": [
        {
          "output_type": "stream",
          "name": "stdout",
          "text": [
            "Channels in file: ['EOG LOC-M2', 'EOG ROC-M1', 'EMG Chin2-Chin1', 'EEG F3-M2', 'EEG F4-M1', 'EEG C3-M2', 'EEG C4-M1', 'EEG O1-M2', 'EEG O2-M1', 'EEG CZ-O1', 'EMG LLeg-RLeg', 'ECG EKG2-EKG', 'Snore', 'Resp PTAF', 'Resp Airflow', 'Resp Thoracic', 'Resp Abdominal', 'SpO2', 'Rate', 'EtCO2', 'Capno', 'Resp Rate', 'C-flow', 'Tidal Vol', 'Pressure']\n"
          ]
        }
      ]
    },
    {
      "cell_type": "code",
      "source": [
        "spo2_channels = [ch for ch in raw.ch_names if \"spo\" in ch.lower() or \"saO2\" in ch.lower()]"
      ],
      "metadata": {
        "id": "oC0B7XhWoYtT"
      },
      "execution_count": 27,
      "outputs": []
    },
    {
      "cell_type": "code",
      "source": [
        "print(\"Channels in file:\", raw.ch_names)"
      ],
      "metadata": {
        "colab": {
          "base_uri": "https://localhost:8080/"
        },
        "outputId": "c6629cdf-fb65-45b8-a057-e12e60b9703e",
        "id": "BHJP4LvWokVZ"
      },
      "execution_count": 28,
      "outputs": [
        {
          "output_type": "stream",
          "name": "stdout",
          "text": [
            "Channels in file: ['EOG LOC-M2', 'EOG ROC-M1', 'EMG Chin2-Chin1', 'EEG F3-M2', 'EEG F4-M1', 'EEG C3-M2', 'EEG C4-M1', 'EEG O1-M2', 'EEG O2-M1', 'EEG CZ-O1', 'EMG LLeg-RLeg', 'ECG EKG2-EKG', 'Snore', 'Resp PTAF', 'Resp Airflow', 'Resp Thoracic', 'Resp Abdominal', 'SpO2', 'Rate', 'EtCO2', 'Capno', 'Resp Rate', 'C-flow', 'Tidal Vol', 'Pressure']\n"
          ]
        }
      ]
    },
    {
      "cell_type": "code",
      "source": [
        "spo2_data, times = raw.copy().pick_channels(spo2_channels).get_data(return_times=True)"
      ],
      "metadata": {
        "colab": {
          "base_uri": "https://localhost:8080/"
        },
        "id": "WUjxxWZ5oyJO",
        "outputId": "90f57129-84a5-426f-a42d-9fbf75749335"
      },
      "execution_count": 29,
      "outputs": [
        {
          "output_type": "stream",
          "name": "stdout",
          "text": [
            "NOTE: pick_channels() is a legacy function. New code should use inst.pick(...).\n"
          ]
        }
      ]
    },
    {
      "cell_type": "code",
      "source": [
        "df_spo2 = pd.DataFrame({\n",
        "    \"Time (s)\": times,\n",
        "    \"SpO2 (%)\": spo2_data[0]  # first (and probably only) channel\n",
        "})"
      ],
      "metadata": {
        "id": "KXsuZEQ3pYJb"
      },
      "execution_count": 33,
      "outputs": []
    },
    {
      "cell_type": "code",
      "source": [
        "print(df_spo2.head(10))"
      ],
      "metadata": {
        "colab": {
          "base_uri": "https://localhost:8080/"
        },
        "id": "CjX_U-Q3pdu8",
        "outputId": "7ce7e97f-8746-4b8e-8f88-af37f4cd1906"
      },
      "execution_count": 34,
      "outputs": [
        {
          "output_type": "stream",
          "name": "stdout",
          "text": [
            "   Time (s)  SpO2 (%)\n",
            "0  0.000000  0.002438\n",
            "1  0.003906  0.002438\n",
            "2  0.007812  0.002438\n",
            "3  0.011719  0.002438\n",
            "4  0.015625  0.002438\n",
            "5  0.019531  0.002438\n",
            "6  0.023438  0.002438\n",
            "7  0.027344  0.002438\n",
            "8  0.031250  0.002438\n",
            "9  0.035156  0.002438\n"
          ]
        }
      ]
    }
  ]
}